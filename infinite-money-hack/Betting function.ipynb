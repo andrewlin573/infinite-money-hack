{
 "cells": [
  {
   "cell_type": "code",
   "execution_count": 77,
   "id": "853db5ae",
   "metadata": {},
   "outputs": [],
   "source": [
    "import urllib.request as urllib\n",
    "from bs4 import BeautifulSoup\n",
    "\n",
    "stats_dict = {\"fg3\":12, \"rebounds\":20, \"trb\":20, \"assists\": 21, \n",
    "              \"ast\":21, \"points\":26, \"pts\":26}\n",
    "\n",
    "def over_under_player(player, stat, ou, lastXGames):\n",
    "    # Get URL for player\n",
    "    bref = \"https://www.basketball-reference.com/players/\"\n",
    "    first, last = player.split(\" \")\n",
    "    url = bref + last[0] + \"/\" + last[0:5] + first[0:2] + \"01/gamelog/2022\"\n",
    "    \n",
    "    # Create the soup object and connection\n",
    "    html = urllib.urlopen(url)\n",
    "    soup = BeautifulSoup(html.read())\n",
    "    html.close()\n",
    "    \n",
    "    table = soup.find(\"tbody\")\n",
    "    trs = table.find_all(\"tr\")\n",
    "    seasonOver = 0\n",
    "    seasonUnder = 0\n",
    "    last10Under = 0\n",
    "    last10Over = 0\n",
    "    \n",
    "    # Iterate thru games\n",
    "    for i in range(len(trs)):\n",
    "        row = trs[i]\n",
    "        tds = row.find_all(\"td\")\n",
    "        if (len(tds) > 8):\n",
    "            # Get game stat\n",
    "            if stat == \"pra\":\n",
    "                gameStat = int(tds[20].get_text()) + int(tds[21].get_text()) + int(tds[26].get_text())\n",
    "            else:\n",
    "                gameStat = int(tds[stats_dict[stat]].get_text())\n",
    "                \n",
    "            # Compare game stat to o/u value\n",
    "            if (gameStat > ou):\n",
    "                seasonOver += 1\n",
    "                if (i > len(trs) - lastXGames - 1):\n",
    "                    last10Over += 1\n",
    "            elif (gameStat < ou):\n",
    "                seasonUnder += 1\n",
    "                if (i > len(trs) - lastXGames - 1):\n",
    "                    last10Under += 1\n",
    "            \n",
    "    # PRINT RESULTS\n",
    "    print(\"Times over this season: \" , seasonOver)\n",
    "    print(\"Times under this season: \" , seasonUnder)\n",
    "    print(\"Times over last\", lastXGames, \"games: \" , last10Over)\n",
    "    print(\"Times under last\", lastXGames, \"games: \" , last10Under)"
   ]
  },
  {
   "cell_type": "code",
   "execution_count": 78,
   "id": "8412a1f3",
   "metadata": {},
   "outputs": [
    {
     "name": "stdout",
     "output_type": "stream",
     "text": [
      "Times over this season:  6\n",
      "Times under this season:  2\n",
      "Times over last 8 games:  5\n",
      "Times under last 8 games:  1\n"
     ]
    }
   ],
   "source": [
    "over_under_player(\"Scottie Barnes\", \"pra\", 25.5, 8)"
   ]
  },
  {
   "cell_type": "code",
   "execution_count": null,
   "id": "54976755",
   "metadata": {},
   "outputs": [],
   "source": []
  }
 ],
 "metadata": {
  "kernelspec": {
   "display_name": "Python 3",
   "language": "python",
   "name": "python3"
  },
  "language_info": {
   "codemirror_mode": {
    "name": "ipython",
    "version": 3
   },
   "file_extension": ".py",
   "mimetype": "text/x-python",
   "name": "python",
   "nbconvert_exporter": "python",
   "pygments_lexer": "ipython3",
   "version": "3.8.8"
  }
 },
 "nbformat": 4,
 "nbformat_minor": 5
}
